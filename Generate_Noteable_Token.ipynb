{
 "cells": [
  {
   "cell_type": "markdown",
   "id": "behind-terry",
   "metadata": {},
   "source": [
    "# To get the sharing token **Run below cell**.\n",
    "\n",
    "It creates a session-sharing pair programming Token that you need to share with your partner. (without you needing to use terminal)\n",
    "\n",
    "- do not edit below cell\n",
    "- do not copy-paste from it\n",
    "- RUN the cell and you will be given a session-sharing token/link\n",
    "\n",
    "(note this only works on Noteable, not on your own instalations, eg. Anaconda)"
   ]
  },
  {
   "cell_type": "code",
   "execution_count": null,
   "id": "light-reason",
   "metadata": {},
   "outputs": [],
   "source": [
    "! printf \"\\n\\nYou can copy link below and send it to someone to share your Noteable session:\\n\\nhttps://noteable.edina.ac.uk/user/$(jupyter notebook list | grep -oP '(?<=user\\/).*(?=\\/\\?)' )/tree?token=$( jupyter notebook list | grep -oP '(?<=token=).*(?= ::)' )\\n\\n\""
   ]
  },
  {
   "cell_type": "code",
   "execution_count": null,
   "id": "institutional-specific",
   "metadata": {},
   "outputs": [],
   "source": []
  }
 ],
 "metadata": {
  "kernelspec": {
   "display_name": "Python 3",
   "language": "python",
   "name": "python3"
  },
  "language_info": {
   "codemirror_mode": {
    "name": "ipython",
    "version": 3
   },
   "file_extension": ".py",
   "mimetype": "text/x-python",
   "name": "python",
   "nbconvert_exporter": "python",
   "pygments_lexer": "ipython3",
   "version": "3.9.2"
  }
 },
 "nbformat": 4,
 "nbformat_minor": 5
}
