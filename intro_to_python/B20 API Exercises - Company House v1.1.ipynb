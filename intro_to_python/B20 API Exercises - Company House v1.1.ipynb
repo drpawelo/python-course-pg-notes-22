{
 "cells": [
  {
   "cell_type": "markdown",
   "metadata": {},
   "source": [
    "# How to create a company house developer account:\n",
    "\n",
    "note: depending on your setup, links might not work when you click them. You can try right-click and 'copy link address', or just copy-pasting these links.\n",
    "\n",
    "- go into companies house website https://developer.company-information.service.gov.uk/api/docs/index/gettingStarted/quickStart.html\n",
    "- click Register, enter your school email and then click the link you received by email\n",
    "- setup a password\n",
    "- login to  https://developer.company-information.service.gov.uk/developer/signin\n",
    "- go to Your Applications on top (https://developer.company-information.service.gov.uk/developer/applications)\n",
    "- choose Register Your Application > REST API key\n",
    "- give your application a name, like \"UoE Business School Project\" > Register. Don;t write anything in the IP addresses part.\n",
    "- you will see API key value. Copy it into your notebook. It will look like this: kGTMYdddAmrSDPviC0sFP48zyQ47tKxd_ikP1345\n",
    "\n",
    "# How to use the company house API:\n",
    "\n",
    "- you are allowed to ask 600 requests within a five-minute period, after which you get another 600. Then it will make you wait for a few seconds/minutes (https://developer.company-information.service.gov.uk/api/docs/index/gettingStarted/rateLimiting.html)\n",
    "\n",
    "- you can use the Documentations to preview and prototype all possible API calls. For example go to https://developer.company-information.service.gov.uk/api/docs/search/companies/companysearch.html (you need to be logged in to prototype). eg. Use the prototyping tool to find all companies with a work 'Bagel' in the name\n",
    "- you can also see who owns the company. eg. grab one of the company_number values from the above 'Bagel' search and use it in the people search (for example '06882845' ): https://developer.company-information.service.gov.uk/api/docs/company/company_number/persons-with-significant-control/listPersonsWithSignificantControl.html\n",
    "\n",
    "# Example tasks to work on today's lab in your notebook\n",
    "\n",
    "(do these in here, using python, not inside of the website prototyping tool)\n",
    "\n",
    "- find all information of companies with a word 'Bagel' in the name (or just use any other word)\n",
    "- from all those companies, how would you get those that are still active? can you calculate how old they are on average?\n",
    "- and for those that are not active, how long did they exist? You can use date_of_creation and date_of_cessation.\n",
    "- now grab only the company_numbers of companies that are still active, and those that existed for over 10 years\n",
    "- use the personsWithSignificantControl API (mentioned above) to find all significant people in these companies. What can you say about their nationalities?\n",
    "\n",
    "-  ... see what else you can find in the data"
   ]
  },
  {
   "cell_type": "code",
   "execution_count": null,
   "metadata": {},
   "outputs": [],
   "source": [
    "# api request code to get you started\n",
    "\n",
    "# !pip install requests  # you might have to uncomment and run this if you're on anaconda\n",
    "import requests\n",
    "\n",
    "\n",
    "# generic function that will call API for you, given a url ending\n",
    "def call_api_with(url_extension):\n",
    "    your_company_house_api_key =\".......here paste the api key from steps above.......\"\n",
    "    \n",
    "    login_headers = {\"Authorization\":your_company_house_api_key}\n",
    "    url = f\"https://api.companieshouse.gov.uk/{url_extension}\"\n",
    "    print(f'requesting: {url}')\n",
    "    res = requests.get(url, headers=login_headers)\n",
    "    return res.json()\n",
    "\n",
    "\n",
    "# some functions to get you started:\n",
    "\n",
    "def get_one_test_company_or_error():\n",
    "    url = f\"search/companies?q=shop&items_per_page=1\"\n",
    "    return call_api_with(url)\n",
    "\n",
    "def search_for_companies_with_query(query):\n",
    "    url = f\"search/companies?q={query}&items_per_page=100\"\n",
    "    return call_api_with(url).get('items', [])\n",
    "\n",
    "def data_for_company(company_number):\n",
    "    url = f\"company/{company_number}\"\n",
    "    return call_api_with(url)\n",
    "\n",
    "def all_persons_in_company(company_number):\n",
    "    url = f\"company/{company_number}/persons-with-significant-control\"\n",
    "    return call_api_with(url).get('items', [])"
   ]
  },
  {
   "cell_type": "code",
   "execution_count": null,
   "metadata": {},
   "outputs": [],
   "source": [
    "get_one_test_company_or_error()"
   ]
  },
  {
   "cell_type": "code",
   "execution_count": null,
   "metadata": {},
   "outputs": [],
   "source": [
    "# below you can start working on the tasks:\n",
    "\n",
    "# - find all information of companies with a word 'Bagel' in the name (or just use any other word)\n",
    "\n",
    "bagel_companies = search_for_companies_with_query(\"bagels\")\n",
    "bagel_companies"
   ]
  },
  {
   "cell_type": "markdown",
   "metadata": {},
   "source": [
    "### - from all those companies, how would you get those that are still active? can you calculate how old they are on average?\n",
    "\n"
   ]
  },
  {
   "cell_type": "code",
   "execution_count": null,
   "metadata": {},
   "outputs": [],
   "source": []
  },
  {
   "cell_type": "markdown",
   "metadata": {},
   "source": [
    "### - and for those that are not active, how long did they exist? You can use date_of_creation and date_of_cessation."
   ]
  },
  {
   "cell_type": "code",
   "execution_count": null,
   "metadata": {},
   "outputs": [],
   "source": []
  },
  {
   "cell_type": "markdown",
   "metadata": {},
   "source": [
    "### - now grab only the company_numbers of companies that are still active, and those that existed for over 10 years"
   ]
  },
  {
   "cell_type": "code",
   "execution_count": null,
   "metadata": {},
   "outputs": [],
   "source": []
  },
  {
   "cell_type": "markdown",
   "metadata": {},
   "source": [
    "### - use the personsWithSignificantControl API (mentioned above) to find all significant people in these companies. What can you say about their nationalities?"
   ]
  },
  {
   "cell_type": "code",
   "execution_count": null,
   "metadata": {},
   "outputs": [],
   "source": []
  },
  {
   "cell_type": "markdown",
   "metadata": {},
   "source": [
    "# some example functions for cleaning up the data"
   ]
  },
  {
   "cell_type": "code",
   "execution_count": null,
   "metadata": {},
   "outputs": [],
   "source": [
    "def gender_if_known(person):\n",
    "    name_elements = person.get('name_elements', {}) # we can use my_dictionary.get(key, value_if_key_missing)\n",
    "    title_if_known = name_elements.get('title', 'Unknown') \n",
    "    \n",
    "    if title_if_known == 'Mr':\n",
    "        return 'Male'\n",
    "    elif title_if_known == 'Mrs' or  title_if_known == 'Ms'  or  title_if_known == 'Miss': # there can be more\n",
    "        return 'Female'\n",
    "    else:\n",
    "        return 'Other or Unknown'\n",
    "    \n",
    "\n",
    "assert gender_if_known( {'name': 'Mrs Jasvinder Sohal', 'name_elements': { 'title': 'Mrs'}})  == 'Female'\n",
    "assert gender_if_known( {'name': 'Mr Jasvinder Sohal', 'name_elements': { 'title': 'Mr'}})  == 'Male'\n",
    "assert gender_if_known( {'name': 'Dr Jasvinder Sohal', 'name_elements': { 'title': 'Dr'}})  == 'Other or Unknown'"
   ]
  },
  {
   "cell_type": "code",
   "execution_count": null,
   "metadata": {},
   "outputs": [],
   "source": [
    "def int_from_voting_string(voting_string):\n",
    "    if voting_string.count(\"voting\"):\n",
    "        return int(voting_string.split(\"-\")[4])\n",
    "    else:\n",
    "        return 0\n",
    "#     input: 'voting-rights-25-to-50-percent'\n",
    "#     output: 50\n",
    "\n",
    "assert int_from_voting_string('voting-rights-25-to-50-percent') == 50\n",
    "assert int_from_voting_string('voting-rights-0-to-25-percent') == 25\n",
    "assert int_from_voting_string('ownership-of-shares-25-to-50-percent') == 0"
   ]
  },
  {
   "cell_type": "code",
   "execution_count": null,
   "metadata": {},
   "outputs": [],
   "source": [
    "def number_of_voting_rights(all_rights):\n",
    "    voting_percents = [int_from_voting_string(one_right)\n",
    "                       for one_right in all_rights\n",
    "                       if one_right.count(\"voting\")]\n",
    "    return sum(voting_percents)\n",
    "    #     eg. input: ['ownership-of-shares-75-to-100-percent',\n",
    "    #    'voting-rights-25-to-50-percent',\n",
    "    #    'right-to-appoint-and-remove-directors']\n",
    "    #     \n",
    "    #     output: 50\n",
    "    \n",
    "assert number_of_voting_rights(['ownership-of-shares-75-to-100-percent','voting-rights-25-to-50-percent']) == 50\n",
    "assert number_of_voting_rights(['ownership-of-shares-75-to-100-percent','voting-rights-0-to-25-percent']) == 25\n",
    "assert number_of_voting_rights(['ownership-of-shares-75-to-100-percent']) == 0"
   ]
  },
  {
   "cell_type": "code",
   "execution_count": null,
   "metadata": {},
   "outputs": [],
   "source": []
  }
 ],
 "metadata": {
  "kernelspec": {
   "display_name": "Python 3",
   "language": "python",
   "name": "python3"
  },
  "language_info": {
   "codemirror_mode": {
    "name": "ipython",
    "version": 3
   },
   "file_extension": ".py",
   "mimetype": "text/x-python",
   "name": "python",
   "nbconvert_exporter": "python",
   "pygments_lexer": "ipython3",
   "version": "3.7.6"
  }
 },
 "nbformat": 4,
 "nbformat_minor": 2
}
