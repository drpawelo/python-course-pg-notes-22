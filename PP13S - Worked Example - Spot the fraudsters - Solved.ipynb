{
 "cells": [
  {
   "cell_type": "markdown",
   "metadata": {},
   "source": [
    "# Spotted the fraudsters"
   ]
  },
  {
   "cell_type": "markdown",
   "metadata": {},
   "source": [
    "Let's look in detail at a full solution for the previous activities you completed on the credit card dataset."
   ]
  },
  {
   "cell_type": "code",
   "execution_count": 1,
   "metadata": {},
   "outputs": [
    {
     "name": "stdout",
     "output_type": "stream",
     "text": [
      "                    CC            No    Money               City  \\\n",
      "0  5110 0000 0000 0000  1.610000e+12  $6,871              Amlwch   \n",
      "1  5294 4409 1242 9950  1.680000e+12  $7,965       North Saanich   \n",
      "2  5380 0000 0000 0000  1.650000e+12  $7,927              Amlwch   \n",
      "3  5530 0000 0000 0000  1.630000e+12  $9,525                Ajax   \n",
      "4  5570 0000 0000 0000  1.630000e+12  $7,008   Pont-Saint-Martin   \n",
      "5  5150 0000 0000 0000  1.650000e+12  $5,138              Amlwch   \n",
      "6    514515 2300050725  1.650000e+12  $6,921                Ajax   \n",
      "7  5288 2331 4441 1377  1.640000e+12  $7,821   Pont-Saint-Martin   \n",
      "8   538649 550458 1435  1.680000e+12  $7,426              Canoas   \n",
      "9   522306 558047 9692  1.650000e+12  $7,344              Canoas   \n",
      "\n",
      "             Phone  Fraud  \n",
      "0    070 2858 8300      1  \n",
      "1     07588 093717      1  \n",
      "2    0800 236 8313      1  \n",
      "3  (0116) 834 5299      0  \n",
      "4    (016977) 0477      1  \n",
      "5      0500 593141      0  \n",
      "6        0800 1111      0  \n",
      "7    0933 242 2375      1  \n",
      "8       0845 46 45      1  \n",
      "9      0800 852603      1  \n"
     ]
    }
   ],
   "source": [
    "from sklearn import datasets\n",
    "import pandas as pd\n",
    "import numpy as np\n",
    "import matplotlib.pyplot as plt\n",
    "\n",
    "dataset = pd.read_csv('data/credit_cards.csv', encoding='latin1')\n",
    "print(dataset.head(10))"
   ]
  },
  {
   "cell_type": "markdown",
   "metadata": {},
   "source": [
    "## Converting alphanumeric into numeric variables"
   ]
  },
  {
   "cell_type": "markdown",
   "metadata": {},
   "source": [
    "The money variable is numeric, but not in the right format. We can see that, first of all, it contains a dollar sign, which prevents it from being read as a number. Secondly, the comma is incorporated in the text as well. We need to address both of these issues."
   ]
  },
  {
   "cell_type": "code",
   "execution_count": 2,
   "metadata": {},
   "outputs": [
    {
     "data": {
      "text/plain": [
       "0    6871\n",
       "1    7965\n",
       "2    7927\n",
       "3    9525\n",
       "4    7008\n",
       "Name: Money, dtype: int64"
      ]
     },
     "execution_count": 2,
     "metadata": {},
     "output_type": "execute_result"
    }
   ],
   "source": [
    "# Removing the dollar sign by treating the value as a string and only selecting\n",
    "# the characters after the first one (which is the dollar sign)\n",
    "money = []\n",
    "for amount in dataset['Money']:\n",
    "    money.append(amount[1:])\n",
    "\n",
    "# Next, remove the comma and transform the text into an integer\n",
    "for index, amount in enumerate(money):\n",
    "    money[index] = int(amount.replace(',',''))\n",
    "dataset['Money'] = money\n",
    "dataset['Money'].head()"
   ]
  },
  {
   "cell_type": "markdown",
   "metadata": {},
   "source": [
    "## Removing variables that have no predictive value"
   ]
  },
  {
   "cell_type": "markdown",
   "metadata": {},
   "source": [
    "Let's look at the number of unique values per variable:"
   ]
  },
  {
   "cell_type": "code",
   "execution_count": 3,
   "metadata": {},
   "outputs": [
    {
     "name": "stdout",
     "output_type": "stream",
     "text": [
      "CC   97\n",
      "No   9\n",
      "Money   98\n",
      "City   5\n",
      "Phone   95\n",
      "Fraud   2\n"
     ]
    }
   ],
   "source": [
    "for var in dataset.columns:\n",
    "    print(var, ' ', len(dataset[var].unique()))"
   ]
  },
  {
   "cell_type": "markdown",
   "metadata": {},
   "source": [
    "The unique values per variable indicate that the categorical variables CC and Phone are containing almost only unique values (we have 99 observations). For the continuous variables, No and Money, this is not a problem of course. Hence, we are going to remove CC and Phone."
   ]
  },
  {
   "cell_type": "code",
   "execution_count": 4,
   "metadata": {},
   "outputs": [
    {
     "data": {
      "text/html": [
       "<div>\n",
       "<style scoped>\n",
       "    .dataframe tbody tr th:only-of-type {\n",
       "        vertical-align: middle;\n",
       "    }\n",
       "\n",
       "    .dataframe tbody tr th {\n",
       "        vertical-align: top;\n",
       "    }\n",
       "\n",
       "    .dataframe thead th {\n",
       "        text-align: right;\n",
       "    }\n",
       "</style>\n",
       "<table border=\"1\" class=\"dataframe\">\n",
       "  <thead>\n",
       "    <tr style=\"text-align: right;\">\n",
       "      <th></th>\n",
       "      <th>No</th>\n",
       "      <th>Money</th>\n",
       "      <th>City</th>\n",
       "      <th>Fraud</th>\n",
       "    </tr>\n",
       "  </thead>\n",
       "  <tbody>\n",
       "    <tr>\n",
       "      <th>0</th>\n",
       "      <td>1.610000e+12</td>\n",
       "      <td>6871</td>\n",
       "      <td>Amlwch</td>\n",
       "      <td>1</td>\n",
       "    </tr>\n",
       "    <tr>\n",
       "      <th>1</th>\n",
       "      <td>1.680000e+12</td>\n",
       "      <td>7965</td>\n",
       "      <td>North Saanich</td>\n",
       "      <td>1</td>\n",
       "    </tr>\n",
       "    <tr>\n",
       "      <th>2</th>\n",
       "      <td>1.650000e+12</td>\n",
       "      <td>7927</td>\n",
       "      <td>Amlwch</td>\n",
       "      <td>1</td>\n",
       "    </tr>\n",
       "    <tr>\n",
       "      <th>3</th>\n",
       "      <td>1.630000e+12</td>\n",
       "      <td>9525</td>\n",
       "      <td>Ajax</td>\n",
       "      <td>0</td>\n",
       "    </tr>\n",
       "    <tr>\n",
       "      <th>4</th>\n",
       "      <td>1.630000e+12</td>\n",
       "      <td>7008</td>\n",
       "      <td>Pont-Saint-Martin</td>\n",
       "      <td>1</td>\n",
       "    </tr>\n",
       "    <tr>\n",
       "      <th>5</th>\n",
       "      <td>1.650000e+12</td>\n",
       "      <td>5138</td>\n",
       "      <td>Amlwch</td>\n",
       "      <td>0</td>\n",
       "    </tr>\n",
       "    <tr>\n",
       "      <th>6</th>\n",
       "      <td>1.650000e+12</td>\n",
       "      <td>6921</td>\n",
       "      <td>Ajax</td>\n",
       "      <td>0</td>\n",
       "    </tr>\n",
       "    <tr>\n",
       "      <th>7</th>\n",
       "      <td>1.640000e+12</td>\n",
       "      <td>7821</td>\n",
       "      <td>Pont-Saint-Martin</td>\n",
       "      <td>1</td>\n",
       "    </tr>\n",
       "    <tr>\n",
       "      <th>8</th>\n",
       "      <td>1.680000e+12</td>\n",
       "      <td>7426</td>\n",
       "      <td>Canoas</td>\n",
       "      <td>1</td>\n",
       "    </tr>\n",
       "    <tr>\n",
       "      <th>9</th>\n",
       "      <td>1.650000e+12</td>\n",
       "      <td>7344</td>\n",
       "      <td>Canoas</td>\n",
       "      <td>1</td>\n",
       "    </tr>\n",
       "  </tbody>\n",
       "</table>\n",
       "</div>"
      ],
      "text/plain": [
       "             No  Money               City  Fraud\n",
       "0  1.610000e+12   6871             Amlwch      1\n",
       "1  1.680000e+12   7965      North Saanich      1\n",
       "2  1.650000e+12   7927             Amlwch      1\n",
       "3  1.630000e+12   9525               Ajax      0\n",
       "4  1.630000e+12   7008  Pont-Saint-Martin      1\n",
       "5  1.650000e+12   5138             Amlwch      0\n",
       "6  1.650000e+12   6921               Ajax      0\n",
       "7  1.640000e+12   7821  Pont-Saint-Martin      1\n",
       "8  1.680000e+12   7426             Canoas      1\n",
       "9  1.650000e+12   7344             Canoas      1"
      ]
     },
     "execution_count": 4,
     "metadata": {},
     "output_type": "execute_result"
    }
   ],
   "source": [
    "dataset_cleanest = dataset.drop(['CC','Phone'], axis=1)\n",
    "dataset_cleanest.head(10)"
   ]
  },
  {
   "cell_type": "markdown",
   "metadata": {},
   "source": [
    "## Removing outliers"
   ]
  },
  {
   "cell_type": "markdown",
   "metadata": {},
   "source": [
    "Add a column called 'outlier' to the dataset containing a -1/1 flag for outliers:"
   ]
  },
  {
   "cell_type": "code",
   "execution_count": 5,
   "metadata": {},
   "outputs": [],
   "source": [
    "from sklearn.neighbors import LocalOutlierFactor\n",
    "\n",
    "# Copy dataset and only retain continuous variables\n",
    "dataset_no_out = dataset_cleanest.copy()[['No', 'Money']]\n",
    "    \n",
    "loc = LocalOutlierFactor(n_neighbors = 20, contamination = 0.2)\n",
    "outliers_loc = loc.fit_predict(dataset_no_out)\n",
    "dataset_no_out['outlier'] = pd.DataFrame(outliers_loc)"
   ]
  },
  {
   "cell_type": "markdown",
   "metadata": {},
   "source": [
    "Let's visualise this:"
   ]
  },
  {
   "cell_type": "code",
   "execution_count": 6,
   "metadata": {},
   "outputs": [
    {
     "data": {
      "image/png": "[encoded data removed]",
      "text/plain": [
       "<Figure size 432x288 with 1 Axes>"
      ]
     },
     "metadata": {
      "needs_background": "light"
     },
     "output_type": "display_data"
    }
   ],
   "source": [
    "for index, obs in dataset_no_out.iterrows():\n",
    "    if obs['outlier'] > 0:\n",
    "        plt.scatter(obs[0], obs[1], color='blue')\n",
    "    else:\n",
    "        plt.scatter(obs[0], obs[1], color='red')\n",
    "plt.xlabel('No')\n",
    "plt.ylabel('Money')\n",
    "plt.show()"
   ]
  },
  {
   "cell_type": "markdown",
   "metadata": {},
   "source": [
    "With other parameters:"
   ]
  },
  {
   "cell_type": "code",
   "execution_count": 7,
   "metadata": {},
   "outputs": [
    {
     "data": {
      "image/png": "[encoded data removed]",
      "text/plain": [
       "<Figure size 432x288 with 1 Axes>"
      ]
     },
     "metadata": {
      "needs_background": "light"
     },
     "output_type": "display_data"
    }
   ],
   "source": [
    "loc = LocalOutlierFactor(n_neighbors = 2, contamination = 0.2)\n",
    "outliers_loc = loc.fit_predict(dataset_no_out)\n",
    "dataset_no_out['outlier'] = pd.DataFrame(outliers_loc)\n",
    "\n",
    "for index, obs in dataset_no_out.iterrows():\n",
    "    if obs['outlier'] > 0:\n",
    "        plt.scatter(obs[0], obs[1], color='blue')\n",
    "    else:\n",
    "        plt.scatter(obs[0], obs[1], color='red')\n",
    "plt.xlabel('No')\n",
    "plt.ylabel('Money')\n",
    "plt.show()"
   ]
  },
  {
   "cell_type": "markdown",
   "metadata": {},
   "source": [
    "By using a Gaussian distribution:"
   ]
  },
  {
   "cell_type": "code",
   "execution_count": 13,
   "metadata": {},
   "outputs": [
    {
     "data": {
      "image/png": "[encoded data removed]",
      "text/plain": [
       "<Figure size 432x288 with 1 Axes>"
      ]
     },
     "metadata": {
      "needs_background": "light"
     },
     "output_type": "display_data"
    }
   ],
   "source": [
    "from sklearn.covariance import EllipticEnvelope\n",
    "\n",
    "ee = EllipticEnvelope(contamination = 0.2)\n",
    "outliers_loc = ee.fit_predict(dataset_no_out)\n",
    "dataset_no_out['outlier'] = pd.DataFrame(outliers_loc)\n",
    "\n",
    "for index, obs in dataset_no_out.iterrows():\n",
    "    if obs['outlier'] > 0:\n",
    "        plt.scatter(obs[0], obs[1], color='blue')\n",
    "    else:\n",
    "        plt.scatter(obs[0], obs[1], color='red')\n",
    "plt.xlabel('No')\n",
    "plt.ylabel('Money')\n",
    "plt.show()"
   ]
  },
  {
   "cell_type": "markdown",
   "metadata": {},
   "source": [
    "## Transforming numeric variables"
   ]
  },
  {
   "cell_type": "markdown",
   "metadata": {},
   "source": [
    "Applying standardisation is simple:"
   ]
  },
  {
   "cell_type": "code",
   "execution_count": 9,
   "metadata": {},
   "outputs": [
    {
     "data": {
      "text/html": [
       "<div>\n",
       "<style scoped>\n",
       "    .dataframe tbody tr th:only-of-type {\n",
       "        vertical-align: middle;\n",
       "    }\n",
       "\n",
       "    .dataframe tbody tr th {\n",
       "        vertical-align: top;\n",
       "    }\n",
       "\n",
       "    .dataframe thead th {\n",
       "        text-align: right;\n",
       "    }\n",
       "</style>\n",
       "<table border=\"1\" class=\"dataframe\">\n",
       "  <thead>\n",
       "    <tr style=\"text-align: right;\">\n",
       "      <th></th>\n",
       "      <th>No</th>\n",
       "      <th>Money</th>\n",
       "    </tr>\n",
       "  </thead>\n",
       "  <tbody>\n",
       "    <tr>\n",
       "      <th>0</th>\n",
       "      <td>-1.716197</td>\n",
       "      <td>-0.254860</td>\n",
       "    </tr>\n",
       "    <tr>\n",
       "      <th>1</th>\n",
       "      <td>1.095445</td>\n",
       "      <td>0.468902</td>\n",
       "    </tr>\n",
       "    <tr>\n",
       "      <th>2</th>\n",
       "      <td>-0.109545</td>\n",
       "      <td>0.443762</td>\n",
       "    </tr>\n",
       "    <tr>\n",
       "      <th>3</th>\n",
       "      <td>-0.912871</td>\n",
       "      <td>1.500958</td>\n",
       "    </tr>\n",
       "    <tr>\n",
       "      <th>4</th>\n",
       "      <td>-0.912871</td>\n",
       "      <td>-0.164224</td>\n",
       "    </tr>\n",
       "  </tbody>\n",
       "</table>\n",
       "</div>"
      ],
      "text/plain": [
       "         No     Money\n",
       "0 -1.716197 -0.254860\n",
       "1  1.095445  0.468902\n",
       "2 -0.109545  0.443762\n",
       "3 -0.912871  1.500958\n",
       "4 -0.912871 -0.164224"
      ]
     },
     "execution_count": 9,
     "metadata": {},
     "output_type": "execute_result"
    }
   ],
   "source": [
    "from sklearn.preprocessing import StandardScaler\n",
    "\n",
    "dataset_trans = dataset_no_out.copy()\n",
    "ss = StandardScaler()\n",
    "\n",
    "# Note that we only retain the continuous variables\n",
    "dataset_trans = ss.fit_transform(dataset_trans[['No','Money']])\n",
    "dataset_trans = pd.DataFrame(data = dataset_trans, columns = ['No', 'Money'])\n",
    "dataset_trans.head()"
   ]
  },
  {
   "cell_type": "markdown",
   "metadata": {},
   "source": [
    "Visualisation:"
   ]
  },
  {
   "cell_type": "code",
   "execution_count": 10,
   "metadata": {},
   "outputs": [
    {
     "data": {
      "image/png": "[encoded data removed]",
      "text/plain": [
       "<Figure size 432x288 with 1 Axes>"
      ]
     },
     "metadata": {
      "needs_background": "light"
     },
     "output_type": "display_data"
    },
    {
     "data": {
      "image/png": "[encoded data removed]",
      "text/plain": [
       "<Figure size 432x288 with 1 Axes>"
      ]
     },
     "metadata": {
      "needs_background": "light"
     },
     "output_type": "display_data"
    }
   ],
   "source": [
    "plt.scatter(dataset_no_out['No'], dataset_no_out['Money'])\n",
    "plt.title('No standardisation')\n",
    "plt.xlabel('No')\n",
    "plt.ylabel('Money')\n",
    "plt.show()\n",
    "\n",
    "plt.scatter(dataset_trans['No'], dataset_trans['Money'])\n",
    "plt.title('After standardisation')\n",
    "plt.xlabel('No')\n",
    "plt.ylabel('Money')\n",
    "plt.show()"
   ]
  },
  {
   "cell_type": "markdown",
   "metadata": {},
   "source": [
    "Using min-max scaling:"
   ]
  },
  {
   "cell_type": "code",
   "execution_count": 11,
   "metadata": {},
   "outputs": [
    {
     "data": {
      "image/png": "[encoded data removed]",
      "text/plain": [
       "<Figure size 432x288 with 1 Axes>"
      ]
     },
     "metadata": {
      "needs_background": "light"
     },
     "output_type": "display_data"
    },
    {
     "data": {
      "image/png": "[encoded data removed]",
      "text/plain": [
       "<Figure size 432x288 with 1 Axes>"
      ]
     },
     "metadata": {
      "needs_background": "light"
     },
     "output_type": "display_data"
    }
   ],
   "source": [
    "from sklearn.preprocessing import MinMaxScaler\n",
    "\n",
    "dataset_trans = dataset_no_out.copy()\n",
    "mms = MinMaxScaler()\n",
    "\n",
    "# Note that we onyl retain the continuous variables\n",
    "dataset_trans = mms.fit_transform(dataset_trans[['No','Money']])\n",
    "dataset_trans = pd.DataFrame(data = dataset_trans, columns = ['No', 'Money'])\n",
    "\n",
    "plt.scatter(dataset_no_out['No'], dataset_no_out['Money'])\n",
    "plt.title('No min-max scaling')\n",
    "plt.xlabel('No')\n",
    "plt.ylabel('Money')\n",
    "plt.show()\n",
    "\n",
    "plt.scatter(dataset_trans['No'], dataset_trans['Money'])\n",
    "plt.title('After min-max scaling')\n",
    "plt.xlabel('No')\n",
    "plt.ylabel('Money')\n",
    "plt.show()"
   ]
  }
 ],
 "metadata": {
  "celltoolbar": "Create Assignment",
  "kernelspec": {
   "display_name": "Python 3",
   "language": "python",
   "name": "python3"
  },
  "language_info": {
   "codemirror_mode": {
    "name": "ipython",
    "version": 3
   },
   "file_extension": ".py",
   "mimetype": "text/x-python",
   "name": "python",
   "nbconvert_exporter": "python",
   "pygments_lexer": "ipython3",
   "version": "3.8.8"
  }
 },
 "nbformat": 4,
 "nbformat_minor": 2
}
